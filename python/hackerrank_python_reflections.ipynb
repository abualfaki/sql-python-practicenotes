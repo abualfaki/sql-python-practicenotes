{
 "cells": [
  {
   "cell_type": "markdown",
   "metadata": {
    "vscode": {
     "languageId": "plaintext"
    }
   },
   "source": [
    "# DAY 1-3 python practice"
   ]
  },
  {
   "cell_type": "markdown",
   "metadata": {},
   "source": [
    "### Learnings \n",
    "\n",
    "1. Using the Boolean function on text returns True\n",
    "    Can be useful to identify text within a column\n",
    "    Example: bool(\"abc) returns True\n",
    "\n",
    "2. You can use the insert method to add a new item to a list\n",
    "    Example list.insert()\n",
    "\n",
    "3. You can use the extend method to add a list to the end of another lis\n",
    "\n",
    "    Example\n",
    "        a = ['hat]\n",
    "        b = ['Jack]\n",
    "\n",
    "        b.extend(a)\n",
    "        print(b) -> ['Jack', 'hat']\n",
    "\n",
    "4. Sets can only have unique values\n",
    "    Can be useful to convert all list to set to get only unique values\n",
    "\n",
    "5. You can use the update method to change the value asscoaited with a key in a dict\n",
    "\n",
    "    info = {'name': 'Abu', 'age': 25}\n",
    "    info.update({'name': 'apple'})\n",
    "\n",
    "    print(info) -> {'name': 'apple', 'age': 25}"
   ]
  },
  {
   "cell_type": "markdown",
   "metadata": {},
   "source": [
    "# DAY 4 Practice\n",
    "\n",
    "1. Short hand if else syntax\n",
    "    ```python\n",
    "    print(\"a is larger than b\") if a > b else print(\"a is not larger than b\")\n",
    "    ```\n",
    "\n",
    "2. 'continue' Key work allows you to skip to the next iteration in a while or for loop\n",
    "\n",
    "    ```python\n",
    "    while i < 6:\n",
    "        if i%2 == 0:\n",
    "            continue\n",
    "        \n",
    "        i+=1\n",
    "    ```\n",
    "\n",
    "\n",
    "    ```python\n",
    "\n",
    "    for item in x:\n",
    "        if item == \"mazda cx-90\":\n",
    "            continue\n",
    "\n",
    "3. add an * before the function input if you don't know how many arguments you will be expecting\n",
    "    ```python\n",
    "    def my_function(*brother):\n",
    "        print(\"his brothers name is \" + brother[\"first_name\"])\n",
    "    ```\n",
    "\n",
    "4. Lamba function is usefule for one line functions\n",
    "\n",
    "    ```python\n",
    "    addition = lambda x, y: x + y\n",
    "\n",
    "    print(addition(10, 5))\n",
    "\n",
    "    ## Lambda functions can have multiple argumentions but only one expression like the example above\n",
    "    ```\n"
   ]
  },
  {
   "cell_type": "markdown",
   "metadata": {
    "vscode": {
     "languageId": "plaintext"
    }
   },
   "source": [
    "# Day 5 Practice notes"
   ]
  },
  {
   "cell_type": "markdown",
   "metadata": {
    "vscode": {
     "languageId": "plaintext"
    }
   },
   "source": [
    "1. Learned to create pivot tables in python using crosstab method in pandas\n",
    "\n",
    "2. Learned to detect outliers using scattee plots and cross tables\n",
    "\n",
    "3. Learn to remove multiple items froma a list using a list comprehension\n",
    "    ```python\n",
    "\n",
    "    # Cleaning supplies\n",
    "    cleaning_items = [brush, vacuum, dryer, sanitizer, soap, dirt, grime]\n",
    "\n",
    "    # items to remove\n",
    "    remove_items = [soap, dirt, grime]\n",
    "\n",
    "    # new list\n",
    "    new_cleanign_supply = [item for item in items if remove_itens not in items]\n",
    "\n",
    "    print(new_list)\n",
    "    ```\n",
    "\n",
    "4. learned about *args and **kwargs for input in function\n",
    "\n",
    "    Imagine y you and ife want to buy Kenza a Birthday Gift at Sephora\n",
    "\n",
    "    If want buy a bundle of gifts and put them in a Big Box So he buys foundation, lip gloss, and toner, and puts them all in the box\n",
    "\n",
    "    You on other hand want to buy different items and put them in a separate box. So perfume gets its own gift box, lip gloss gets its own box, and foundation gets its own box\n",
    "\n",
    "    You color code your boxes so you what in each box but if has everythin in one large box so you don't know what's in this box\n",
    "\n",
    "    Ife has *args and you have **Kwargs\n",
    "\n",
    "    Kenza birthday is 2 days away but ife forgot how many itmes he put in the box. You two argus about it endlessly until you went to Mr.Python.\n",
    "\n",
    "    Mr. python has a system to tell you wants in the box using *args\n",
    "\n",
    "    Mr.Python uses *args to open the box without damaging it so you and ife can know whats in the box.\n",
    "\n",
    "    Mr.Python uses *kwargs to open each of your boxes professsionally to tell you and ife what's inside without making it look like the box was open.\n",
    "\n",
    "    *args doesn't like opening multiple boxes he like opening only one at a time\n",
    "\n",
    "    ** Kwargs like opening mutiple boxes because he thinks opening boxes with presents he can't have is fun."
   ]
  },
  {
   "cell_type": "markdown",
   "metadata": {
    "vscode": {
     "languageId": "plaintext"
    }
   },
   "source": [
    "# Learnings from Project"
   ]
  },
  {
   "cell_type": "code",
   "execution_count": null,
   "metadata": {
    "vscode": {
     "languageId": "plaintext"
    }
   },
   "outputs": [],
   "source": [
    "Learned to use dictionaries in python for vetorized operations rather than for loops to replace rows with different values in large dataset.\n",
    "\n",
    "Using Vectorized Operations is more effiecient and faster than using for loops to replace.\n",
    "\n",
    "Learned to write use fuzzy matching algorithm to identify missplet Job Titles inputted by borrowers."
   ]
  }
 ],
 "metadata": {
  "language_info": {
   "name": "python"
  }
 },
 "nbformat": 4,
 "nbformat_minor": 2
}
