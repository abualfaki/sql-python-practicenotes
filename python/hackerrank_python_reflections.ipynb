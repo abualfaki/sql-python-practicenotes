{
 "cells": [
  {
   "cell_type": "markdown",
   "metadata": {
    "vscode": {
     "languageId": "plaintext"
    }
   },
   "source": [
    "# DAY 1-3 python practice"
   ]
  },
  {
   "cell_type": "markdown",
   "metadata": {},
   "source": [
    "### Learnings \n",
    "\n",
    "1. Using the Boolean function on text returns True\n",
    "    Can be useful to identify text within a column\n",
    "    Example: bool(\"abc) returns True\n",
    "\n",
    "2. You can use the insert method to add a new item to a list\n",
    "    Example list.insert()\n",
    "\n",
    "3. You can use the extend method to add a list to the end of another lis\n",
    "\n",
    "    Example\n",
    "        a = ['hat]\n",
    "        b = ['Jack]\n",
    "\n",
    "        b.extend(a)\n",
    "        print(b) -> ['Jack', 'hat']\n",
    "\n",
    "4. Sets can only have unique values\n",
    "    Can be useful to convert all list to set to get only unique values\n",
    "\n",
    "5. You can use the update method to change the value asscoaited with a key in a dict\n",
    "\n",
    "    info = {'name': 'Abu', 'age': 25}\n",
    "    info.update({'name': 'apple'})\n",
    "\n",
    "    print(info) -> {'name': 'apple', 'age': 25}"
   ]
  },
  {
   "cell_type": "markdown",
   "metadata": {},
   "source": [
    "# DAY 4 Practice\n",
    "\n",
    "1. Short hand if else syntax\n",
    "    ```python\n",
    "    print(\"a is larger than b\") if a > b else print(\"a is not larger than b\")\n",
    "    ```\n",
    "\n",
    "2. 'continue' Key work allows you to skip to the next iteration in a while or for loop\n",
    "\n",
    "    ```python\n",
    "    while i < 6:\n",
    "        if i%2 == 0:\n",
    "            continue\n",
    "        \n",
    "        i+=1\n",
    "    ```\n",
    "\n",
    "\n",
    "    ```python\n",
    "\n",
    "    for item in x:\n",
    "        if item == \"mazda cx-90\":\n",
    "            continue\n",
    "\n",
    "3. add an * before the function input if you don't know how many arguments you will be expecting\n",
    "    ```python\n",
    "    def my_function(*brother):\n",
    "        print(\"his brothers name is \" + brother[\"first_name\"])\n",
    "    ```\n",
    "\n",
    "4. Lamba function is usefule for one line functions\n",
    "\n",
    "    ```python\n",
    "    addition = lambda x, y: x + y\n",
    "\n",
    "    print(addition(10, 5))\n",
    "\n",
    "    ## Lambda functions can have multiple argumentions but only one expression like the example above\n",
    "    ```\n"
   ]
  }
 ],
 "metadata": {
  "language_info": {
   "name": "python"
  }
 },
 "nbformat": 4,
 "nbformat_minor": 2
}
