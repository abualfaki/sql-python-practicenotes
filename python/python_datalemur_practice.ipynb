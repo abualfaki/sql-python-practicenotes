{
 "cells": [
  {
   "cell_type": "markdown",
   "metadata": {},
   "source": [
    "# Capital One Interview Question"
   ]
  },
  {
   "cell_type": "code",
   "execution_count": null,
   "metadata": {},
   "outputs": [],
   "source": [
    "def convertToBase13(num):\n",
    "  \n",
    "  result = ''\n",
    "  base_13_dict = {10: 'A', 11: 'B', 12:'C'}\n",
    "  positive_num = abs(num)\n",
    "  \n",
    "  # Handle edge-case\n",
    "  if positive_num == 0:\n",
    "    return \"0\"\n",
    "    \n",
    "  while positive_num > 0:\n",
    "      \n",
    "    remainder = positive_num % 13\n",
    "    positive_num //= 13 #Update quotient\n",
    "    \n",
    "    if remainder in base_13_dict:\n",
    "      result =  base_13_dict[remainder] + result \n",
    "      \n",
    "    else:\n",
    "      result = str(remainder) + result #Append to the left\n",
    "      \n",
    "  if num < 0:\n",
    "    return '-' + result\n",
    "  \n",
    "  else:\n",
    "    return result"
   ]
  },
  {
   "cell_type": "markdown",
   "metadata": {},
   "source": [
    "# Learnings\n",
    "\n",
    "1. Understanding the logic is what i am having challneges with in python. Once I understand the logic flow It will be easier for me"
   ]
  }
 ],
 "metadata": {
  "language_info": {
   "name": "python"
  }
 },
 "nbformat": 4,
 "nbformat_minor": 2
}
