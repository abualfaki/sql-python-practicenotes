{
 "cells": [
  {
   "cell_type": "markdown",
   "metadata": {},
   "source": [
    "# Capital One Interview Question"
   ]
  },
  {
   "cell_type": "code",
   "execution_count": null,
   "metadata": {},
   "outputs": [],
   "source": [
    "def convertToBase13(num):\n",
    "  \n",
    "  result = ''\n",
    "  base_13_dict = {10: 'A', 11: 'B', 12:'C'}\n",
    "  positive_num = abs(num)\n",
    "  \n",
    "  # Handle edge-case\n",
    "  if positive_num == 0:\n",
    "    return \"0\"\n",
    "    \n",
    "  while positive_num > 0:\n",
    "      \n",
    "    remainder = positive_num % 13\n",
    "    positive_num //= 13 #Update quotient\n",
    "    \n",
    "    if remainder in base_13_dict:\n",
    "      result =  base_13_dict[remainder] + result \n",
    "      \n",
    "    else:\n",
    "      result = str(remainder) + result #Append to the left\n",
    "      \n",
    "  if num < 0:\n",
    "    return '-' + result\n",
    "  \n",
    "  else:\n",
    "    return result"
   ]
  },
  {
   "cell_type": "markdown",
   "metadata": {},
   "source": [
    "# Amazon Python question"
   ]
  },
  {
   "cell_type": "markdown",
   "metadata": {},
   "source": [
    "Find the intersection between two lists\n",
    "\n",
    "https://datalemur.com/questions/python-intersection-of-two-lists"
   ]
  },
  {
   "cell_type": "code",
   "execution_count": null,
   "metadata": {},
   "outputs": [],
   "source": [
    "def intersection(a, b):\n",
    "  a = set(a)\n",
    "  b = set(b)\n",
    "  \n",
    "  intersect = list(a.intersection(b))\n",
    "  \n",
    "  return intersect"
   ]
  },
  {
   "cell_type": "markdown",
   "metadata": {},
   "source": [
    "# Learnings\n",
    "\n",
    "1. Understanding the logic is what i am having challneges with in python. Once I understand the logic flow It will be easier for me"
   ]
  },
  {
   "cell_type": "markdown",
   "metadata": {},
   "source": [
    "# Intuit Python Inteview Question (SQL)"
   ]
  },
  {
   "cell_type": "code",
   "execution_count": null,
   "metadata": {},
   "outputs": [],
   "source": [
    "def weakest_strong_link(strength):\n",
    "  \n",
    "\tfor row in range(len(strength)):\n",
    "\t  \n",
    "\t  #find minimum value in row\n",
    "\t  min_value = min(strength[row])\n",
    "\t  \n",
    "\t  # find index of min value\n",
    "\t  min_index = strength[row].index(min_value)\n",
    "\t  \n",
    "\t  # column attributed to weakest link in row\n",
    "\t  columns = [row[min_index] for row in strength]\n",
    "\t  \n",
    "\t  #compare weakest chain link in row to chain links in columns\n",
    "\t  if min_value == max(columns):\n",
    "\t    result = max(columns)\n",
    "\t  \n",
    "      else:\n",
    "\t    result = -1\n",
    "\t\n",
    "\treturn result"
   ]
  },
  {
   "cell_type": "markdown",
   "metadata": {},
   "source": [
    "## Learnings\n",
    "\n",
    "1. We can use list comprehensions to access the first element of each row in a 2D lists usin list comprehensions without using pandas or numpy\n",
    "\n",
    "```PYTHON\n",
    "l1 = [[1,2,3],[4,5,6]]\n",
    "columns = [l1[0] for item in l1]\n",
    "\n",
    "print(columns)\n",
    "-> [1,4]\n",
    "```\n",
    "\n",
    "2. Find the minimum value in a list use \n",
    "\n",
    "```PYTHON\n",
    "min_value = min(strength[row])\n",
    "```\n",
    "\n",
    "3. Fine the index of a value in a index = strength.index(6)\n",
    "```"
   ]
  },
  {
   "cell_type": "markdown",
   "metadata": {},
   "source": [
    "# Spotify Interview Question"
   ]
  },
  {
   "cell_type": "code",
   "execution_count": null,
   "metadata": {},
   "outputs": [],
   "source": [
    "#\n",
    "def another_one(digits):\n",
    "  number = int(\"\".join(map(str,digits))) + 1\n",
    "  \n",
    "  return [int(digit) for digit in str(number)]\n",
    "\n",
    "# another_one([6, 9]) -> [7,0]"
   ]
  },
  {
   "cell_type": "markdown",
   "metadata": {},
   "source": [
    "### Learnings\n",
    "\n",
    "map(str, digits) - takes elements of a list and changes them to strings\n",
    "\n",
    "\"\".join() takes string elements in a list and concats them together.\n",
    "\n",
    "int() coverts the string into and integer\n",
    "\n",
    "[int(digit) for digit in str(number)] is a list comprehension to covert number into a list of elemenets. [7,0]"
   ]
  }
 ],
 "metadata": {
  "language_info": {
   "name": "python"
  }
 },
 "nbformat": 4,
 "nbformat_minor": 2
}
