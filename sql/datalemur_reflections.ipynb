{
 "cells": [
  {
   "cell_type": "markdown",
   "metadata": {},
   "source": [
    "## Facebook SQL interview Question"
   ]
  },
  {
   "cell_type": "code",
   "execution_count": null,
   "metadata": {
    "vscode": {
     "languageId": "plaintext"
    }
   },
   "outputs": [],
   "source": [
    "https://datalemur.com/questions/updated-status"
   ]
  },
  {
   "cell_type": "markdown",
   "metadata": {},
   "source": [
    "Learnings\n",
    "\n",
    "You can use the UNION operator to join two columns with the same data types together.\n",
    "\n",
    "Amazon.com can have a table of customers user_id and their average order value\n",
    "and another table with customers user_id and a columns stating if they have ever had a prime membership\n",
    "\n",
    "Amazon wants to know how many paying customers they have (customer swho purchased any product or service)\n",
    "\n",
    "Not every customer who purchses has a prime membership.\n",
    "\n",
    "We can use get all the customer_id's from the first table and all the customer_id's from the second table.\n",
    "Then use the union operator to combine all the customer ids from both tables"
   ]
  },
  {
   "cell_type": "code",
   "execution_count": null,
   "metadata": {
    "vscode": {
     "languageId": "sql"
    }
   },
   "outputs": [],
   "source": [
    "-- My solution\n",
    "/* Took approximately 45 mins to solve because I didn't know how to use FULL OUTER JOIN \n",
    "to get a complete list of companies that advertised on Facebook.\n",
    "\n",
    "Some companies didn't appear in the advertisers table so INNER JOINS would not give a full\n",
    "list of all companies that advertised on Facebook\n",
    "*/\n",
    "\n",
    "-- Get all users all in one column\n",
    "WITH all_users AS (\n",
    "  SELECT user_id\n",
    "  FROM advertiser\n",
    "\n",
    "  UNION\n",
    "\n",
    "  SELECT user_id\n",
    "  FROM daily_pay\n",
    "),\n",
    "\n",
    "-- Join all_users, advertiser and daily paid table\n",
    "ad_dpay2 AS (\n",
    "  SELECT \n",
    "        au.user_id AS main_id,\n",
    "        a.user_id,\n",
    "        dp.user_id,\n",
    "        a.status,\n",
    "        dp.paid\n",
    "        \n",
    "  FROM all_users AS au \n",
    "  \n",
    "  LEFT JOIN advertiser AS a \n",
    "  ON au.user_id = a.user_id\n",
    "\n",
    "  LEFT JOIN daily_pay AS dp \n",
    "  ON au.user_id = dp.user_id\n",
    "\n",
    "),\n",
    "\n",
    "-- Create new column to get new status of advertisers\n",
    "user_new_status AS (\n",
    "  SELECT \n",
    "      main_id,\n",
    "      status,\n",
    "      paid,\n",
    "      CASE\n",
    "        WHEN status IN ('NEW', 'EXISTING', 'RESURRECT', 'CHURN') AND paid IS NULL THEN 'CHURN'\n",
    "        WHEN status IN ('NEW', 'EXISTING', 'RESURRECT') AND paid >= 0 THEN 'EXISTING'\n",
    "        WHEN status IN ('CHURN') AND paid >0 THEN 'RESURRECT'\n",
    "        ELSE 'NEW'\n",
    "      END AS new_status\n",
    "  FROM ad_dpay2\n",
    ")\n",
    "\n",
    "\n",
    "-- Display new_status of users\n",
    "SELECT main_id, new_status\n",
    "FROM user_new_status\n",
    "ORDER BY main_id;"
   ]
  },
  {
   "cell_type": "code",
   "execution_count": null,
   "metadata": {
    "vscode": {
     "languageId": "sql"
    }
   },
   "outputs": [],
   "source": [
    "  -- Example iof UNION operator\n",
    "  SELECT user_id\n",
    "  FROM advertiser\n",
    "\n",
    "  UNION\n",
    "\n",
    "  SELECT user_id\n",
    "  FROM daily_pay"
   ]
  },
  {
   "cell_type": "markdown",
   "metadata": {},
   "source": [
    "### More Efficient solution\n"
   ]
  },
  {
   "cell_type": "code",
   "execution_count": null,
   "metadata": {
    "vscode": {
     "languageId": "sql"
    }
   },
   "outputs": [],
   "source": [
    "-- Step 1: Merge tables using FULL OUTER JOIN\n",
    "SELECT *\n",
    "FROM advertiser\n",
    "FULL OUTER JOIN daily_pay\n",
    "ON advertiser.user_id = daily_pay.user_id;\n",
    "\n",
    "-- Step 2: Assign payment status based on payment\n",
    "SELECT   \n",
    "  CASE \n",
    "    WHEN paid IS NULL THEN 'CHURN' \n",
    "    WHEN paid IS NOT NULL AND advertiser.status IN ('NEW','EXISTING','RESURRECT') THEN 'EXISTING'\n",
    "    WHEN paid IS NOT NULL AND advertiser.status = 'CHURN' THEN 'RESURRECT'\n",
    "    WHEN paid IS NOT NULL AND advertiser.status IS NULL THEN 'NEW'\n",
    "  END AS new_status\n",
    "FROM advertiser\n",
    "FULL OUTER JOIN daily_pay\n",
    "  ON advertiser.user_id = daily_pay.user_id;\n",
    "\n",
    "-- Step 3: Select the user IDs with adjusted status\n",
    "  SELECT \n",
    "  COALESCE(advertiser.user_id, daily_pay.user_id) AS user_id,\n",
    "  CASE \n",
    "    WHEN paid IS NULL THEN 'CHURN' \n",
    "    WHEN paid IS NOT NULL AND advertiser.status IN ('NEW','EXISTING','RESURRECT') THEN 'EXISTING'\n",
    "    WHEN paid IS NOT NULL AND advertiser.status = 'CHURN' THEN 'RESURRECT'\n",
    "    WHEN paid IS NOT NULL AND advertiser.status IS NULL THEN 'NEW'\n",
    "  END AS new_status\n",
    "FROM advertiser\n",
    "FULL OUTER JOIN daily_pay\n",
    "  ON advertiser.user_id = daily_pay.user_id\n",
    "ORDER BY user_id;"
   ]
  },
  {
   "cell_type": "markdown",
   "metadata": {
    "vscode": {
     "languageId": "sql"
    }
   },
   "source": [
    "#### Errors I ran into and solved\n",
    "\n",
    "If you are joining multiple tables and each table has columns that have the same name and wrapping the join in a CTE, it is advisable to give the namesake column you wish to primarily use an alias so you don't run in error later when you call the namesake column in another query.\n",
    "\n"
   ]
  },
  {
   "cell_type": "markdown",
   "metadata": {},
   "source": []
  },
  {
   "cell_type": "markdown",
   "metadata": {},
   "source": [
    "# Amazon SQL Interview Question"
   ]
  },
  {
   "cell_type": "markdown",
   "metadata": {},
   "source": [
    "[Amazon SQL Interview Question](https://datalemur.com/questions/sql-highest-grossing)"
   ]
  },
  {
   "cell_type": "code",
   "execution_count": null,
   "metadata": {
    "vscode": {
     "languageId": "sql"
    }
   },
   "outputs": [],
   "source": [
    "-- My solution took about 1 hr to solve\n",
    "\n",
    "-- Get the total amount cutomers spent on each product\n",
    "WITH total_spent AS (\n",
    "  SELECT\n",
    "        category,\n",
    "        product,\n",
    "        user_id,\n",
    "        spend,\n",
    "        SUM(spend) OVER(PARTITION BY product) AS total_product_spend\n",
    "  FROM product_spend\n",
    "  WHERE EXTRACT(YEAR FROM transaction_date)  = 2022\n",
    "),\n",
    "\n",
    "-- Rank product sales from highest to lowest\n",
    "top2 AS (\n",
    "\n",
    "  SELECT\n",
    "        *,\n",
    "        DENSE_RANK() OVER(PARTITION BY category ORDER BY total_product_spend DESC) as top_products\n",
    "  FROM total_spent\n",
    ")\n",
    "\n",
    "-- Get top 2 best selling products within each category\n",
    "SELECT DISTINCT product, category,total_product_spend\n",
    "FROM top2\n",
    "WHERE top_products IN (1,2)\n",
    "ORDER BY category, total_product_spend DESC;"
   ]
  },
  {
   "cell_type": "code",
   "execution_count": null,
   "metadata": {
    "vscode": {
     "languageId": "sql"
    }
   },
   "outputs": [],
   "source": [
    "-- Efficient solution\n",
    "\n",
    "-- Rank products sales from highest to lowest\n",
    "WITH total_spent AS (\n",
    "\n",
    "  SELECT\n",
    "        category,\n",
    "        product,\n",
    "        SUM(spend) AS total_spend,\n",
    "        DENSE_RANK() OVER(PARTITION BY category ORDER BY SUM(spend) DESC) AS top_products\n",
    "  FROM product_spend\n",
    "  WHERE EXTRACT(YEAR FROM transaction_date) = 2022\n",
    "  GROUP BY category, product\n",
    ")\n",
    "\n",
    "-- Get top 2 best selling products within each category\n",
    "\n",
    "SELECT category, product, total_spend\n",
    "FROM total_spent\n",
    "WHERE top_products IN (1,2)\n",
    "ORDER BY category, total_spend DESC;"
   ]
  },
  {
   "cell_type": "markdown",
   "metadata": {},
   "source": [
    "### Why did it take an hour to solve?"
   ]
  },
  {
   "cell_type": "markdown",
   "metadata": {},
   "source": [
    "I didn't filter for trasactions for the year of 2022 because I didn't pay attention to the questiom\n",
    "\n",
    "I could have used the GROUP BY keyword to group by category and product, then used the SUM aggregate function to calculate the total amount customers spent on a particular product in each category\n",
    "\n",
    "By using the GROUP BY keyword I could ranked the top two products customers spent the most on in each category within the first CTE which would have avoided having a the 2nd CTE.\n",
    "\n",
    "Also I wasn't aware that I can use aggregate funtions with ORDER BY even within the OVER CLAUSE\n",
    " Eaxample\n",
    " RANK() OVER (\n",
    "      PARTITION BY category \n",
    "      ORDER BY SUM(spend) DESC) AS ranking"
   ]
  },
  {
   "cell_type": "markdown",
   "metadata": {
    "vscode": {
     "languageId": "sql"
    }
   },
   "source": [
    "### Key learnings"
   ]
  },
  {
   "cell_type": "markdown",
   "metadata": {},
   "source": [
    "I can only use the DISTINCT keyword right after the SELECT keyword\n",
    "\n",
    "I can only use the DISTINCT keyword with one column\n",
    "\n",
    "DENSE_RANK gives the same number/rank to ties but doesn't skip numbers for ties\n",
    "\n",
    "RANK gives the same rank to ties but skips a numbers after a tie\n",
    "\n",
    "The WHERE clause comes bofore the GROUP BY CLAUSE. Data is filtered with WHERE before it is GROUPED using GROUP BY"
   ]
  },
  {
   "cell_type": "markdown",
   "metadata": {
    "vscode": {
     "languageId": "sql"
    }
   },
   "source": [
    "# FACEBOOK SQL QUESTION"
   ]
  },
  {
   "cell_type": "markdown",
   "metadata": {},
   "source": [
    "https://datalemur.com/questions/user-retention"
   ]
  },
  {
   "cell_type": "code",
   "execution_count": null,
   "metadata": {
    "vscode": {
     "languageId": "sql"
    }
   },
   "outputs": [],
   "source": [
    "-- My solution\n",
    "\n",
    "-- Identify users who are active in the month of June\n",
    "with cte AS (\n",
    "  SELECT\n",
    "        user_id,\n",
    "        event_id,\n",
    "        event_type,\n",
    "        event_date,\n",
    "        \n",
    "        --Identify who was active the previous month\n",
    "        LAG(EXTRACT (MONTH FROM event_date)) \n",
    "          OVER(PARTITION BY user_id ORDER BY event_date) AS prev_month,\n",
    "\n",
    "        -- Extract month from date as a number so we use group by\n",
    "        EXTRACT(MONTH FROM event_date) AS event_month\n",
    "  FROM user_actions\n",
    ")\n",
    "\n",
    "-- Filter for users active in JULY and disply thr number of active users in July\n",
    "SELECT event_month AS month, COUNT(DISTINCT user_id) AS monthly_actice_users\n",
    "FROM cte\n",
    "WHERE TO_CHAR(event_date, 'YYYY-MM') = '2022-07' AND prev_month = 6\n",
    "GROUP BY event_month"
   ]
  },
  {
   "cell_type": "code",
   "execution_count": null,
   "metadata": {
    "vscode": {
     "languageId": "sql"
    }
   },
   "outputs": [],
   "source": [
    "-- SOlution from Datalemur\n",
    "\n",
    "SELECT \n",
    "  EXTRACT(MONTH FROM curr_month.event_date) AS mth, \n",
    "  COUNT(DISTINCT curr_month.user_id) AS monthly_active_users \n",
    "FROM user_actions AS curr_month\n",
    "\n",
    "WHERE EXISTS (\n",
    "  SELECT last_month.user_id \n",
    "  FROM user_actions AS last_month\n",
    "  WHERE last_month.user_id = curr_month.user_id\n",
    "    AND EXTRACT(MONTH FROM last_month.event_date) =\n",
    "    EXTRACT(MONTH FROM curr_month.event_date - interval '1 month')\n",
    ")\n",
    "\n",
    "  AND EXTRACT(MONTH FROM curr_month.event_date) = 7\n",
    "\n",
    "  AND EXTRACT(YEAR FROM curr_month.event_date) = 2022\n",
    "\n",
    "GROUP BY EXTRACT(MONTH FROM curr_month.event_date);"
   ]
  },
  {
   "cell_type": "markdown",
   "metadata": {},
   "source": [
    "My solution is more efficient because WHERE EXISTS solution performs a correlated subquery for each row in curr_month making it computationally more expensive.\n",
    "\n",
    "WHERE EXISTS method cheks each user's history activity and checks if the date of the activity is in June.\n",
    "This can be computationally expensive with O(n)^2 time complexity\n",
    "\n",
    "CTE takes a modular approach and makes code easier to decode and. The LAG window function passes through the whole dataset once and gets the previous date of a user's activity.\n",
    "\n",
    "Then we can simply filter for records in July and users that were active the previous month in June. This is much less computationally expensive"
   ]
  },
  {
   "cell_type": "code",
   "execution_count": null,
   "metadata": {
    "vscode": {
     "languageId": "sql"
    }
   },
   "outputs": [],
   "source": [
    "-- EXTRACT FORMATS OF DATES FROM DATES\n",
    "\n",
    "-- Example\n",
    "TO_CHAR(event_date, 'YYYY-MM') = '2022-07'"
   ]
  },
  {
   "cell_type": "code",
   "execution_count": null,
   "metadata": {
    "vscode": {
     "languageId": "sql"
    }
   },
   "outputs": [],
   "source": []
  }
 ],
 "metadata": {
  "language_info": {
   "name": "python"
  }
 },
 "nbformat": 4,
 "nbformat_minor": 2
}
