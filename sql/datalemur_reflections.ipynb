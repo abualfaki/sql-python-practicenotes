{
 "cells": [
  {
   "cell_type": "markdown",
   "metadata": {},
   "source": [
    "## Facebook SQL interview Question"
   ]
  },
  {
   "cell_type": "code",
   "execution_count": null,
   "metadata": {
    "vscode": {
     "languageId": "plaintext"
    }
   },
   "outputs": [],
   "source": [
    "https://datalemur.com/questions/updated-status"
   ]
  },
  {
   "cell_type": "markdown",
   "metadata": {},
   "source": [
    "Learnings\n",
    "\n",
    "You can use the UNION operator to join two columns with the same data types together.\n",
    "\n",
    "Amazon.com can have a table of customers user_id and their average order value\n",
    "and another table with customers user_id and a columns stating if they have ever had a prime membership\n",
    "\n",
    "Amazon wants to know how many paying customers they have (customer swho purchased any product or service)\n",
    "\n",
    "Not every customer who purchses has a prime membership.\n",
    "\n",
    "We can use get all the customer_id's from the first table and all the customer_id's from the second table.\n",
    "Then use the union operator to combine all the customer ids from both tables"
   ]
  },
  {
   "cell_type": "code",
   "execution_count": null,
   "metadata": {
    "vscode": {
     "languageId": "sql"
    }
   },
   "outputs": [],
   "source": [
    "-- My solution\n",
    "/* Took approximately 45 mins to solve because I didn't know how to use FULL OUTER JOIN \n",
    "to get a complete list of companies that advertised on Facebook.\n",
    "\n",
    "Some companies didn't appear in the advertisers table so INNER JOINS would not give a full\n",
    "list of all companies that advertised on Facebook\n",
    "*/\n",
    "\n",
    "-- Get all users all in one column\n",
    "WITH all_users AS (\n",
    "  SELECT user_id\n",
    "  FROM advertiser\n",
    "\n",
    "  UNION\n",
    "\n",
    "  SELECT user_id\n",
    "  FROM daily_pay\n",
    "),\n",
    "\n",
    "-- Join all_users, advertiser and daily paid table\n",
    "ad_dpay2 AS (\n",
    "  SELECT \n",
    "        au.user_id AS main_id,\n",
    "        a.user_id,\n",
    "        dp.user_id,\n",
    "        a.status,\n",
    "        dp.paid\n",
    "        \n",
    "  FROM all_users AS au \n",
    "  \n",
    "  LEFT JOIN advertiser AS a \n",
    "  ON au.user_id = a.user_id\n",
    "\n",
    "  LEFT JOIN daily_pay AS dp \n",
    "  ON au.user_id = dp.user_id\n",
    "\n",
    "),\n",
    "\n",
    "-- Create new column to get new status of advertisers\n",
    "user_new_status AS (\n",
    "  SELECT \n",
    "      main_id,\n",
    "      status,\n",
    "      paid,\n",
    "      CASE\n",
    "        WHEN status IN ('NEW', 'EXISTING', 'RESURRECT', 'CHURN') AND paid IS NULL THEN 'CHURN'\n",
    "        WHEN status IN ('NEW', 'EXISTING', 'RESURRECT') AND paid >= 0 THEN 'EXISTING'\n",
    "        WHEN status IN ('CHURN') AND paid >0 THEN 'RESURRECT'\n",
    "        ELSE 'NEW'\n",
    "      END AS new_status\n",
    "  FROM ad_dpay2\n",
    ")\n",
    "\n",
    "\n",
    "-- Display new_status of users\n",
    "SELECT main_id, new_status\n",
    "FROM user_new_status\n",
    "ORDER BY main_id;"
   ]
  },
  {
   "cell_type": "code",
   "execution_count": null,
   "metadata": {
    "vscode": {
     "languageId": "sql"
    }
   },
   "outputs": [],
   "source": [
    "  -- Example iof UNION operator\n",
    "  SELECT user_id\n",
    "  FROM advertiser\n",
    "\n",
    "  UNION\n",
    "\n",
    "  SELECT user_id\n",
    "  FROM daily_pay"
   ]
  },
  {
   "cell_type": "markdown",
   "metadata": {},
   "source": [
    "### More Efficient solution\n"
   ]
  },
  {
   "cell_type": "code",
   "execution_count": null,
   "metadata": {
    "vscode": {
     "languageId": "sql"
    }
   },
   "outputs": [],
   "source": [
    "-- Step 1: Merge tables using FULL OUTER JOIN\n",
    "SELECT *\n",
    "FROM advertiser\n",
    "FULL OUTER JOIN daily_pay\n",
    "ON advertiser.user_id = daily_pay.user_id;\n",
    "\n",
    "-- Step 2: Assign payment status based on payment\n",
    "SELECT   \n",
    "  CASE \n",
    "    WHEN paid IS NULL THEN 'CHURN' \n",
    "    WHEN paid IS NOT NULL AND advertiser.status IN ('NEW','EXISTING','RESURRECT') THEN 'EXISTING'\n",
    "    WHEN paid IS NOT NULL AND advertiser.status = 'CHURN' THEN 'RESURRECT'\n",
    "    WHEN paid IS NOT NULL AND advertiser.status IS NULL THEN 'NEW'\n",
    "  END AS new_status\n",
    "FROM advertiser\n",
    "FULL OUTER JOIN daily_pay\n",
    "  ON advertiser.user_id = daily_pay.user_id;\n",
    "\n",
    "-- Step 3: Select the user IDs with adjusted status\n",
    "  SELECT \n",
    "  COALESCE(advertiser.user_id, daily_pay.user_id) AS user_id,\n",
    "  CASE \n",
    "    WHEN paid IS NULL THEN 'CHURN' \n",
    "    WHEN paid IS NOT NULL AND advertiser.status IN ('NEW','EXISTING','RESURRECT') THEN 'EXISTING'\n",
    "    WHEN paid IS NOT NULL AND advertiser.status = 'CHURN' THEN 'RESURRECT'\n",
    "    WHEN paid IS NOT NULL AND advertiser.status IS NULL THEN 'NEW'\n",
    "  END AS new_status\n",
    "FROM advertiser\n",
    "FULL OUTER JOIN daily_pay\n",
    "  ON advertiser.user_id = daily_pay.user_id\n",
    "ORDER BY user_id;"
   ]
  },
  {
   "cell_type": "markdown",
   "metadata": {
    "vscode": {
     "languageId": "sql"
    }
   },
   "source": [
    "#### Errors I ran into and solved\n",
    "\n",
    "If you are joining multiple tables and each table has columns that have the same name and wrapping the join in a CTE, it is advisable to give the namesake column you wish to primarily use an alias so you don't run in error later when you call the namesake column in another query.\n",
    "\n"
   ]
  },
  {
   "cell_type": "markdown",
   "metadata": {},
   "source": []
  }
 ],
 "metadata": {
  "language_info": {
   "name": "python"
  }
 },
 "nbformat": 4,
 "nbformat_minor": 2
}
