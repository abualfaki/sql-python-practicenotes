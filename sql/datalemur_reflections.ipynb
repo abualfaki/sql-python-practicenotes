{
 "cells": [
  {
   "cell_type": "markdown",
   "metadata": {},
   "source": [
    "## Facebook SQL interview Question"
   ]
  },
  {
   "cell_type": "code",
   "execution_count": null,
   "metadata": {
    "vscode": {
     "languageId": "plaintext"
    }
   },
   "outputs": [],
   "source": [
    "https://datalemur.com/questions/updated-status"
   ]
  },
  {
   "cell_type": "markdown",
   "metadata": {},
   "source": [
    "Learnings\n",
    "\n",
    "You can use the UNION operator to join two columns with the same data types together.\n",
    "\n",
    "Amazon.com can have a table of customers user_id and their average order value\n",
    "and another table with customers user_id and a columns stating if they have ever had a prime membership\n",
    "\n",
    "Amazon wants to know how many paying customers they have (customer swho purchased any product or service)\n",
    "\n",
    "Not every customer who purchses has a prime membership.\n",
    "\n",
    "We can use get all the customer_id's from the first table and all the customer_id's from the second table.\n",
    "Then use the union operator to combine all the customer ids from both tables"
   ]
  },
  {
   "cell_type": "code",
   "execution_count": null,
   "metadata": {
    "vscode": {
     "languageId": "sql"
    }
   },
   "outputs": [],
   "source": [
    "-- My solution\n",
    "/* Took approximately 45 mins to solve because I didn't know how to use FULL OUTER JOIN \n",
    "to get a complete list of companies that advertised on Facebook.\n",
    "\n",
    "Some companies didn't appear in the advertisers table so INNER JOINS would not give a full\n",
    "list of all companies that advertised on Facebook\n",
    "*/\n",
    "\n",
    "-- Get all users all in one column\n",
    "WITH all_users AS (\n",
    "  SELECT user_id\n",
    "  FROM advertiser\n",
    "\n",
    "  UNION\n",
    "\n",
    "  SELECT user_id\n",
    "  FROM daily_pay\n",
    "),\n",
    "\n",
    "-- Join all_users, advertiser and daily paid table\n",
    "ad_dpay2 AS (\n",
    "  SELECT \n",
    "        au.user_id AS main_id,\n",
    "        a.user_id,\n",
    "        dp.user_id,\n",
    "        a.status,\n",
    "        dp.paid\n",
    "        \n",
    "  FROM all_users AS au \n",
    "  \n",
    "  LEFT JOIN advertiser AS a \n",
    "  ON au.user_id = a.user_id\n",
    "\n",
    "  LEFT JOIN daily_pay AS dp \n",
    "  ON au.user_id = dp.user_id\n",
    "\n",
    "),\n",
    "\n",
    "-- Create new column to get new status of advertisers\n",
    "user_new_status AS (\n",
    "  SELECT \n",
    "      main_id,\n",
    "      status,\n",
    "      paid,\n",
    "      CASE\n",
    "        WHEN status IN ('NEW', 'EXISTING', 'RESURRECT', 'CHURN') AND paid IS NULL THEN 'CHURN'\n",
    "        WHEN status IN ('NEW', 'EXISTING', 'RESURRECT') AND paid >= 0 THEN 'EXISTING'\n",
    "        WHEN status IN ('CHURN') AND paid >0 THEN 'RESURRECT'\n",
    "        ELSE 'NEW'\n",
    "      END AS new_status\n",
    "  FROM ad_dpay2\n",
    ")\n",
    "\n",
    "\n",
    "-- Display new_status of users\n",
    "SELECT main_id, new_status\n",
    "FROM user_new_status\n",
    "ORDER BY main_id;"
   ]
  },
  {
   "cell_type": "code",
   "execution_count": null,
   "metadata": {
    "vscode": {
     "languageId": "sql"
    }
   },
   "outputs": [],
   "source": [
    "  -- Example iof UNION operator\n",
    "  SELECT user_id\n",
    "  FROM advertiser\n",
    "\n",
    "  UNION\n",
    "\n",
    "  SELECT user_id\n",
    "  FROM daily_pay"
   ]
  },
  {
   "cell_type": "markdown",
   "metadata": {},
   "source": [
    "### More Efficient solution\n"
   ]
  },
  {
   "cell_type": "code",
   "execution_count": null,
   "metadata": {
    "vscode": {
     "languageId": "sql"
    }
   },
   "outputs": [],
   "source": [
    "-- Step 1: Merge tables using FULL OUTER JOIN\n",
    "SELECT *\n",
    "FROM advertiser\n",
    "FULL OUTER JOIN daily_pay\n",
    "ON advertiser.user_id = daily_pay.user_id;\n",
    "\n",
    "-- Step 2: Assign payment status based on payment\n",
    "SELECT   \n",
    "  CASE \n",
    "    WHEN paid IS NULL THEN 'CHURN' \n",
    "    WHEN paid IS NOT NULL AND advertiser.status IN ('NEW','EXISTING','RESURRECT') THEN 'EXISTING'\n",
    "    WHEN paid IS NOT NULL AND advertiser.status = 'CHURN' THEN 'RESURRECT'\n",
    "    WHEN paid IS NOT NULL AND advertiser.status IS NULL THEN 'NEW'\n",
    "  END AS new_status\n",
    "FROM advertiser\n",
    "FULL OUTER JOIN daily_pay\n",
    "  ON advertiser.user_id = daily_pay.user_id;\n",
    "\n",
    "-- Step 3: Select the user IDs with adjusted status\n",
    "  SELECT \n",
    "  COALESCE(advertiser.user_id, daily_pay.user_id) AS user_id,\n",
    "  CASE \n",
    "    WHEN paid IS NULL THEN 'CHURN' \n",
    "    WHEN paid IS NOT NULL AND advertiser.status IN ('NEW','EXISTING','RESURRECT') THEN 'EXISTING'\n",
    "    WHEN paid IS NOT NULL AND advertiser.status = 'CHURN' THEN 'RESURRECT'\n",
    "    WHEN paid IS NOT NULL AND advertiser.status IS NULL THEN 'NEW'\n",
    "  END AS new_status\n",
    "FROM advertiser\n",
    "FULL OUTER JOIN daily_pay\n",
    "  ON advertiser.user_id = daily_pay.user_id\n",
    "ORDER BY user_id;"
   ]
  },
  {
   "cell_type": "markdown",
   "metadata": {
    "vscode": {
     "languageId": "sql"
    }
   },
   "source": [
    "#### Errors I ran into and solved\n",
    "\n",
    "If you are joining multiple tables and each table has columns that have the same name and wrapping the join in a CTE, it is advisable to give the namesake column you wish to primarily use an alias so you don't run in error later when you call the namesake column in another query.\n",
    "\n"
   ]
  },
  {
   "cell_type": "markdown",
   "metadata": {},
   "source": []
  },
  {
   "cell_type": "markdown",
   "metadata": {},
   "source": [
    "# Amazon SQL Interview Question"
   ]
  },
  {
   "cell_type": "markdown",
   "metadata": {},
   "source": [
    "[Amazon SQL Interview Question](https://datalemur.com/questions/sql-highest-grossing)"
   ]
  },
  {
   "cell_type": "code",
   "execution_count": null,
   "metadata": {
    "vscode": {
     "languageId": "sql"
    }
   },
   "outputs": [],
   "source": [
    "-- My solution took about 1 hr to solve\n",
    "\n",
    "-- Get the total amount cutomers spent on each product\n",
    "WITH total_spent AS (\n",
    "  SELECT\n",
    "        category,\n",
    "        product,\n",
    "        user_id,\n",
    "        spend,\n",
    "        SUM(spend) OVER(PARTITION BY product) AS total_product_spend\n",
    "  FROM product_spend\n",
    "  WHERE EXTRACT(YEAR FROM transaction_date)  = 2022\n",
    "),\n",
    "\n",
    "-- Rank product sales from highest to lowest\n",
    "top2 AS (\n",
    "\n",
    "  SELECT\n",
    "        *,\n",
    "        DENSE_RANK() OVER(PARTITION BY category ORDER BY total_product_spend DESC) as top_products\n",
    "  FROM total_spent\n",
    ")\n",
    "\n",
    "-- Get top 2 best selling products within each category\n",
    "SELECT DISTINCT product, category,total_product_spend\n",
    "FROM top2\n",
    "WHERE top_products IN (1,2)\n",
    "ORDER BY category, total_product_spend DESC;"
   ]
  },
  {
   "cell_type": "code",
   "execution_count": null,
   "metadata": {
    "vscode": {
     "languageId": "sql"
    }
   },
   "outputs": [],
   "source": [
    "-- Efficient solution\n",
    "\n",
    "-- Rank products sales from highest to lowest\n",
    "WITH total_spent AS (\n",
    "\n",
    "  SELECT\n",
    "        category,\n",
    "        product,\n",
    "        SUM(spend) AS total_spend,\n",
    "        DENSE_RANK() OVER(PARTITION BY category ORDER BY SUM(spend) DESC) AS top_products\n",
    "  FROM product_spend\n",
    "  WHERE EXTRACT(YEAR FROM transaction_date) = 2022\n",
    "  GROUP BY category, product\n",
    ")\n",
    "\n",
    "-- Get top 2 best selling products within each category\n",
    "\n",
    "SELECT category, product, total_spend\n",
    "FROM total_spent\n",
    "WHERE top_products IN (1,2)\n",
    "ORDER BY category, total_spend DESC;"
   ]
  },
  {
   "cell_type": "markdown",
   "metadata": {},
   "source": [
    "### Why did it take an hour to solve?"
   ]
  },
  {
   "cell_type": "markdown",
   "metadata": {},
   "source": [
    "I didn't filter for trasactions for the year of 2022 because I didn't pay attention to the questiom\n",
    "\n",
    "I could have used the GROUP BY keyword to group by category and product, then used the SUM aggregate function to calculate the total amount customers spent on a particular product in each category\n",
    "\n",
    "By using the GROUP BY keyword I could ranked the top two products customers spent the most on in each category within the first CTE which would have avoided having a the 2nd CTE.\n",
    "\n",
    "Also I wasn't aware that I can use aggregate funtions with ORDER BY even within the OVER CLAUSE\n",
    " Eaxample\n",
    " RANK() OVER (\n",
    "      PARTITION BY category \n",
    "      ORDER BY SUM(spend) DESC) AS ranking"
   ]
  },
  {
   "cell_type": "markdown",
   "metadata": {
    "vscode": {
     "languageId": "sql"
    }
   },
   "source": [
    "### Key learnings"
   ]
  },
  {
   "cell_type": "markdown",
   "metadata": {},
   "source": [
    "I can only use the DISTINCT keyword right after the SELECT keyword\n",
    "\n",
    "I can only use the DISTINCT keyword with one column\n",
    "\n",
    "DENSE_RANK gives the same number/rank to ties but doesn't skip numbers for ties\n",
    "\n",
    "RANK gives the same rank to ties but skips a numbers after a tie\n",
    "\n",
    "The WHERE clause comes bofore the GROUP BY CLAUSE. Data is filtered with WHERE before it is GROUPED using GROUP BY"
   ]
  },
  {
   "cell_type": "markdown",
   "metadata": {
    "vscode": {
     "languageId": "sql"
    }
   },
   "source": [
    "# FACEBOOK SQL QUESTION"
   ]
  },
  {
   "cell_type": "markdown",
   "metadata": {},
   "source": [
    "https://datalemur.com/questions/user-retention"
   ]
  },
  {
   "cell_type": "code",
   "execution_count": null,
   "metadata": {
    "vscode": {
     "languageId": "sql"
    }
   },
   "outputs": [],
   "source": [
    "-- My solution\n",
    "\n",
    "-- Identify users who are active in the month of June\n",
    "with cte AS (\n",
    "  SELECT\n",
    "        user_id,\n",
    "        event_id,\n",
    "        event_type,\n",
    "        event_date,\n",
    "        \n",
    "        --Identify who was active the previous month\n",
    "        LAG(EXTRACT (MONTH FROM event_date)) \n",
    "          OVER(PARTITION BY user_id ORDER BY event_date) AS prev_month,\n",
    "\n",
    "        -- Extract month from date as a number so we use group by\n",
    "        EXTRACT(MONTH FROM event_date) AS event_month\n",
    "  FROM user_actions\n",
    ")\n",
    "\n",
    "-- Filter for users active in JULY and disply thr number of active users in July\n",
    "SELECT event_month AS month, COUNT(DISTINCT user_id) AS monthly_actice_users\n",
    "FROM cte\n",
    "WHERE TO_CHAR(event_date, 'YYYY-MM') = '2022-07' AND prev_month = 6\n",
    "GROUP BY event_month"
   ]
  },
  {
   "cell_type": "code",
   "execution_count": null,
   "metadata": {
    "vscode": {
     "languageId": "sql"
    }
   },
   "outputs": [],
   "source": [
    "-- SOlution from Datalemur\n",
    "\n",
    "SELECT \n",
    "  EXTRACT(MONTH FROM curr_month.event_date) AS mth, \n",
    "  COUNT(DISTINCT curr_month.user_id) AS monthly_active_users \n",
    "FROM user_actions AS curr_month\n",
    "\n",
    "WHERE EXISTS (\n",
    "  SELECT last_month.user_id \n",
    "  FROM user_actions AS last_month\n",
    "  WHERE last_month.user_id = curr_month.user_id\n",
    "    AND EXTRACT(MONTH FROM last_month.event_date) =\n",
    "    EXTRACT(MONTH FROM curr_month.event_date - interval '1 month')\n",
    ")\n",
    "\n",
    "  AND EXTRACT(MONTH FROM curr_month.event_date) = 7\n",
    "\n",
    "  AND EXTRACT(YEAR FROM curr_month.event_date) = 2022\n",
    "\n",
    "GROUP BY EXTRACT(MONTH FROM curr_month.event_date);"
   ]
  },
  {
   "cell_type": "markdown",
   "metadata": {
    "vscode": {
     "languageId": "sql"
    }
   },
   "source": [
    "## My solution compared to Datalemur solution\n",
    "\n",
    "My solution is more efficient because WHERE EXISTS solution performs a correlated subquery for each row in curr_month making it computationally more expensive.\n",
    "\n",
    "WHERE EXISTS method cheks each user's history activity and checks if the date of the activity is in June.\n",
    "This can be computationally expensive with O(n)^2 time complexity\n",
    "\n",
    "CTE takes a modular approach and makes code easier to decode and. The LAG window function passes through the whole dataset once and gets the previous date of a user's activity.\n",
    "\n",
    "Then we can simply filter for records in July and users that were active the previous month in June. This is much less computationally expensive"
   ]
  },
  {
   "cell_type": "code",
   "execution_count": null,
   "metadata": {
    "vscode": {
     "languageId": "sql"
    }
   },
   "outputs": [],
   "source": [
    "-- EXTRACT FORMATS OF DATES FROM DATES\n",
    "\n",
    "-- Example\n",
    "TO_CHAR(event_date, 'YYYY-MM') = '2022-07'"
   ]
  },
  {
   "cell_type": "markdown",
   "metadata": {
    "vscode": {
     "languageId": "sql"
    }
   },
   "source": [
    "## USEFUL Functions in SQL\n",
    "\n",
    "1. TO_CHAR(event_date, 'YYYY-MM') = '2022-07'\n",
    "\n",
    "        Example of use:\n",
    "\n",
    "        ```SQL\n",
    "        SELECT event_month AS month, COUNT(DISTINCT user_id) AS monthly_actice_users\n",
    "        FROM cte\n",
    "\n",
    "        -- Use TO_CHAR to filter for year and month at the same time\n",
    "        WHERE TO_CHAR(event_date, 'YYYY-MM') = '2022-07' AND prev_month = 6\n",
    "        GROUP BY event_month\n",
    "        ```\n",
    "\n",
    "2. **GROUP_CONCAT**\n",
    "    Learned that we can use GROUP_CONCAT function to have multiple values in the same row when we use the GROUP_BY clause\n",
    "\n",
    "    ### Basice Syntax\n",
    "    ```sql GROUP_CONCAT(expression [ORDER BY expression] [SEPARATOR 'delimiter']) ```\n",
    "\n",
    "    ### Example of using GROUP_CONCAT\n",
    "\n",
    "    ![Screenshot 2025-02-11 at 2.30.46 PM.png](<attachment:Screenshot 2025-02-11 at 2.30.46 PM.png>)\n",
    "\n",
    "    ``` sql\n",
    "    SELECT department, GROUP_CONCAT(employee_name) AS employees\n",
    "    FROM employees\n",
    "    GROUP BY department;\n",
    "    ```\n",
    "\n",
    "    🔹 GROUP_CONCAT() combines multiple employee names into a single row per department.\n",
    "\n",
    "    **How to ensure results don't get Truncated**\n",
    "        ![Screenshot 2025-02-11 at 2.38.53 PM.png](<attachment:Screenshot 2025-02-11 at 2.38.53 PM.png>)\n"
   ]
  },
  {
   "cell_type": "markdown",
   "metadata": {},
   "source": [
    "# Microsoft SQL QUESTION"
   ]
  },
  {
   "cell_type": "code",
   "execution_count": null,
   "metadata": {
    "vscode": {
     "languageId": "sql"
    }
   },
   "outputs": [],
   "source": [
    "-- My solution\n",
    "\n",
    "\n",
    "-- Filter for August of 2022 and count number of messages per user\n",
    "WITH aug_messages AS (\n",
    "  SELECT \n",
    "        message_id, \n",
    "        sender_id, \n",
    "        receiver_id, \n",
    "        content, \n",
    "        sent_date,\n",
    "        COUNT(message_id) OVER(PARTITION BY sender_id) AS message_count,\n",
    "        DATE_TRUNC('month', sent_date) as dated\n",
    "  FROM messages\n",
    "  WHERE TO_CHAR(sent_date, 'MM-YYYY') = '08-2022'\n",
    "  \n",
    ") \n",
    "\n",
    "-- Get top 2 users witht the mmost messages\n",
    "SELECT DISTINCT sender_id, message_count\n",
    "FROM aug_messages\n",
    "ORDER BY message_count DESC\n",
    "LIMIT 2;"
   ]
  },
  {
   "cell_type": "code",
   "execution_count": null,
   "metadata": {
    "vscode": {
     "languageId": "sql"
    }
   },
   "outputs": [],
   "source": [
    "-- More effiecient solution\n",
    "\n",
    "SELECT\n",
    "      sender_id,\n",
    "      COUNT(message_id) AS message_count\n",
    "FROM messages\n",
    "WHERE DATE_TRUNC('month', sent_date) = '2022-08-01'\n",
    "GROUP BY sender_id\n",
    "ORDER BY message_count DESC\n",
    "LIMIT 2;\n",
    "\n",
    "-- Filteriung using the DATE_TRUNC function is more effiecient because TO_CHAR processes every row in the\n",
    "-- dataset and converts it to a string. This is called sequential snanning here SQL scans through every row and finds matching data.\n",
    "\n",
    "--IN contrast using DATE_TRUNC and EXTRCAT to filter for datas allows SQL to use index scanning \n",
    "-- which is much faster than sequential scanning using TO_CHAR in the WHERE clause. \n",
    "-- This is because using TO_CHAR in for filtering soesn't allow SQL to take advantage of indexes thus\n",
    "-- SQL must perform a full tabkle scan. This is slow for millions of rows"
   ]
  },
  {
   "cell_type": "markdown",
   "metadata": {},
   "source": [
    "## Hackerrank Advanced certificate question"
   ]
  },
  {
   "cell_type": "code",
   "execution_count": null,
   "metadata": {
    "vscode": {
     "languageId": "sql"
    }
   },
   "outputs": [],
   "source": [
    "/*\n",
    "Enter your query below.\n",
    "Please append a semicolon \";\" at the end of the query\n",
    "*/\n",
    "\n",
    "SET SESSION group_concat_max_len = 10000;\n",
    "\n",
    "-- Get Max scores fo all participants ain all events\n",
    "WITH max_scores AS (\n",
    "     SELECT \n",
    "            event_id,\n",
    "            participant_name,\n",
    "            MAX(score) as max_score\n",
    "    FROM scoretable\n",
    "    GROUP BY event_id, participant_name\n",
    "),\n",
    "\n",
    "ranked_scores AS (\n",
    "    \n",
    "    SELECT\n",
    "        event_id,\n",
    "        participant_name,\n",
    "        max_score,\n",
    "        DENSE_RANK() OVER(PARTITION BY event_id ORDER BY max_score DESC) AS rankings\n",
    "    FROM max_scores\n",
    ")\n",
    "\n",
    "SELECT\n",
    "    event_id,\n",
    "    GROUP_CONCAT(CASE WHEN rankings = 1 THEN participant_name END ORDER BY participant_name ASC SEPARATOR ',' ) AS first,\n",
    "    GROUP_CONCAT(CASE WHEN rankings = 2 THEN participant_name END ORDER BY participant_name ASC SEPARATOR ',' ) AS second,\n",
    "    GROUP_CONCAT(CASE WHEN rankings = 3 THEN participant_name END ORDER BY participant_name ASC SEPARATOR ',' ) AS third\n",
    "FROM ranked_scores\n",
    "GROUP BY event_id"
   ]
  },
  {
   "attachments": {
    "Screenshot 2025-02-11 at 2.30.46 PM.png": {
     "image/png": "[encoded data removed]"
    },
    "Screenshot 2025-02-11 at 2.38.53 PM.png": {
     "image/png": "[encoded data removed]"
    }
   },
   "cell_type": "markdown",
   "metadata": {},
   "source": [
    "## Notes from Hackerank Advanced Cert\n",
    "\n",
    "1. **GROUP_CONCAT**\n",
    "    Learned that we can use GROUP_CONCAT function to have multiple values in the same row when we use the GROUP_BY clause\n",
    "\n",
    "    ### Basice Syntax\n",
    "    ```sql GROUP_CONCAT(expression [ORDER BY expression] [SEPARATOR 'delimiter']) ```\n",
    "\n",
    "    ### Example of using GROUP_CONCAT\n",
    "\n",
    "    ![Screenshot 2025-02-11 at 2.30.46 PM.png](<attachment:Screenshot 2025-02-11 at 2.30.46 PM.png>)\n",
    "\n",
    "    ``` sql\n",
    "    SELECT department, GROUP_CONCAT(employee_name) AS employees\n",
    "    FROM employees\n",
    "    GROUP BY department;\n",
    "    ```\n",
    "\n",
    "    🔹 GROUP_CONCAT() combines multiple employee names into a single row per department.\n",
    "\n",
    "    **How to ensure results don't get Truncated**\n",
    "        ![Screenshot 2025-02-11 at 2.38.53 PM.png](<attachment:Screenshot 2025-02-11 at 2.38.53 PM.png>)\n",
    "\n",
    "2. **WEEDAY(), YEAR(), MONTH(), DATE()**\n",
    "\n",
    "    - WEEDAY(), YEAR(), MONTH() can be used to to extract the weekday, year, month from a DATETIME variable\n",
    "        **Example**\n",
    "           - WEEKDAY() returns 0 for Monday to 6 for Sunday\n",
    "           - YEAR('2024-12-12 00:00:00') -> '2024'\n",
    "           - MONTH(2024-12-12 00:00:00') -> '12'\n",
    "\n",
    "    - DATE() truncates a TIMESTAMP variable to just the day\n",
    "        **Example**\n",
    "        - DATE('2024-12-12 00:00:00') -> '2024-12-12'\n",
    "\n"
   ]
  },
  {
   "cell_type": "markdown",
   "metadata": {},
   "source": [
    "# SPOTIFY DATALEMUR QUESTION"
   ]
  },
  {
   "cell_type": "markdown",
   "metadata": {
    "vscode": {
     "languageId": "sql"
    }
   },
   "source": [
    "https://datalemur.com/questions/top-fans-rank"
   ]
  },
  {
   "cell_type": "markdown",
   "metadata": {},
   "source": [
    "1. Learned that we don't have to use partition by when using rank window funtions we cna just use order by in the OVER clause\n",
    "\n",
    "2. We can use the COUNT() Aggregation function in SQL in Window Funtion. But we have to use the GROUP BY function.\n",
    "\n",
    "3. WHenever we use an aggregate funtion we must use the group by clause\n"
   ]
  },
  {
   "cell_type": "code",
   "execution_count": null,
   "metadata": {
    "vscode": {
     "languageId": "sql"
    }
   },
   "outputs": [],
   "source": [
    "-- Identify 10 Artists whose songs appeared the most in the glabal rankings table\n",
    "WITH artists_songs AS (\n",
    "\n",
    "  SELECT \n",
    "        a.artist_name,\n",
    "        DENSE_RANK() OVER(ORDER BY COUNT(s.song_id) DESC) AS artist_rank\n",
    "  FROM artists AS a\n",
    "  \n",
    "  INNER JOIN songs AS s\n",
    "  ON a.artist_id = s.artist_id\n",
    "  \n",
    "  INNER JOIN global_song_rank as gs \n",
    "  ON s.song_id = gs.song_id\n",
    "  \n",
    "  WHERE rank <= 10\n",
    "  GROUP BY a.artist_name\n",
    ")\n",
    "\n",
    "-- Filter for top 5 artists whose songs appeared the most\n",
    "SELECT artist_name, artist_rank\n",
    "FROM artists_songs\n",
    "WHERE artist_rank <= 5;"
   ]
  },
  {
   "cell_type": "markdown",
   "metadata": {},
   "source": [
    "## Bloomberg FAANG STOCKS"
   ]
  },
  {
   "cell_type": "code",
   "execution_count": null,
   "metadata": {
    "vscode": {
     "languageId": "sql"
    }
   },
   "outputs": [],
   "source": [
    "-- MY Solution\n",
    "-- Identify rows with lowest and highest open\n",
    "WITH cte AS (\n",
    "  SELECT\n",
    "    ticker,\n",
    "    TO_CHAR(date, 'Mon-YYYY') AS month,\n",
    "    open,\n",
    "    -- Identify Row with Highest Open\n",
    "    ROW_NUMBER() OVER(PARTITION BY ticker ORDER BY open DESC) as highest_open,\n",
    "    -- Identify row with Lowest Open\n",
    "    ROW_NUMBER() OVER(PARTITION BY ticker ORDER BY open ASC) AS lowest_open\n",
    "FROM stock_prices\n",
    "ORDER BY ticker ASC, highest_open ASC\n",
    "\n",
    ")\n",
    "\n",
    "-- SElF JOIN cte to have Highest month & highest open price and lowest month & lowest price on the same row\n",
    "SELECT\n",
    "  t1.ticker AS ticker,\n",
    "  t1.month AS highest_month,\n",
    "  t1.open AS highest_open,\n",
    "  t2.month AS lowest_month,\n",
    "  t2.open AS lowest_open\n",
    "  \n",
    "FROM cte AS t1\n",
    "JOIN cte AS t2\n",
    "\n",
    "ON t1.ticker = t2.ticker\n",
    "  AND t1.highest_open = 1 -- filter for rows in t1 that have the highest open price\n",
    "  AND t2.lowest_open = 1 -- -- filter for rows in t1 that have the lowest open price\n",
    "  \n",
    "ORDER BY ticker ASC;"
   ]
  },
  {
   "cell_type": "markdown",
   "metadata": {
    "vscode": {
     "languageId": "sql"
    }
   },
   "source": [
    "## Learnings"
   ]
  },
  {
   "cell_type": "markdown",
   "metadata": {},
   "source": [
    "1. When using an aggregate function I must use the GROUP BY clause\n",
    "\n",
    "2. WE can use the ORDER BY with ranking window functions. For exmaple, we get the name of the top sales agent within each Branch of best buy in Ottawa.\n",
    "    ROW_NUMBER(PARTITION BY branch_id ORDER BY sales_closed DESD) AS top_sales person\n",
    "\n",
    "3. We can get the top sales and bottoem sales person from the same table using ranking window functions and a self-join\n",
    "\n",
    "    ROW_NUMBER(PARTITION BY branch_id ORDER BY sales_closed DESC) AS top_sales_person\n",
    "        - The row with the top sales person will have a rank of one\n",
    "    ROW_NUMBER(PARTITION BY branch_id ORDER BY sales_closed ASC) AS bottom_sales_person\n",
    "        - The row with the top sales person will have a rank of one\n",
    "\n",
    "    The we can use a sefl-join on the same table filtering for row in table 1 that has the top_sales_person = 1;\n",
    "    then filter for row in table 2 that has the bottom_sales_person = 1\n"
   ]
  },
  {
   "cell_type": "markdown",
   "metadata": {},
   "source": [
    "# Datalemur User Shopping sprees"
   ]
  },
  {
   "cell_type": "markdown",
   "metadata": {},
   "source": [
    "https://datalemur.com/questions/amazon-shopping-spree"
   ]
  },
  {
   "cell_type": "code",
   "execution_count": null,
   "metadata": {
    "vscode": {
     "languageId": "sql"
    }
   },
   "outputs": [],
   "source": [
    "-- Create a column with transactions of the follwing day\n",
    "WITH cte AS (\n",
    "    SELECT\n",
    "    *,\n",
    "    LEAD(transaction_date) OVER(PARTITION BY user_id ORDER BY transaction_date) AS next_day_transaction\n",
    "  FROM transactions\n",
    "  ORDER BY user_id\n",
    "),\n",
    "\n",
    "-- Subtract next_day_transaction from transaction date to filter fro consecutive days\n",
    " cte2 AS (\n",
    "   SELECT \n",
    "    *,\n",
    "    EXTRACT(DAY FROM next_day_transaction - transaction_date) AS consec_days\n",
    "  FROM cte\n",
    "),\n",
    "\n",
    "-- Filter for consecutive days only\n",
    "cte3 AS (\n",
    "  SELECT *\n",
    "  FROM cte2\n",
    "  WHERE consec_days = 1\n",
    ")\n",
    "\n",
    "-- Filter for uses who had shopping sprees of lasting 3 days or more\n",
    "SELECT\n",
    "    user_id\n",
    "FROM cte3\n",
    "GROUP BY user_id\n",
    "HAVING SUM(consec_days) >= 2\n"
   ]
  },
  {
   "cell_type": "code",
   "execution_count": null,
   "metadata": {
    "vscode": {
     "languageId": "sql"
    }
   },
   "outputs": [],
   "source": [
    "-- Datalemur Solution\n",
    "\n",
    "SELECT *\n",
    "\n",
    "FROM transactions AS t1 -- original table\n",
    "\n",
    "-- Filter for users that had one consecutive day of shopping\n",
    "INNER JOIN transactions AS t2\n",
    "  ON DATE(t2.transaction_date) = DATE(t1.transaction_date) + 1\n",
    "  -- We are joining on transaction_date because we can know if\n",
    "  -- a user had a consecutive day of shopping by seeing self-joining\n",
    "  -- the transaction table and seeing if a date from t2 is one \n",
    "  -- day ahead of a date from t2\n",
    "\n",
    "INNER JOIN transactions AS t3\n",
    "  ON DATE(t3.transaction_date) = DATE(t1.transaction_date) + 2\n",
    "  \n",
    "ORDER BY T1.user_id"
   ]
  },
  {
   "cell_type": "markdown",
   "metadata": {
    "vscode": {
     "languageId": "sql"
    }
   },
   "source": [
    "## Learnings\n",
    "\n",
    "#### Self-Joins are an alternative to window functions for getting the data you need on the same row for each user.\n",
    "\n",
    "#### Use the DATE() function to convert date text into DATE TIMESTAMP\n",
    "\n",
    "#### You can join on other conditions not just user_id removing the requirement for WHERE clause "
   ]
  },
  {
   "cell_type": "markdown",
   "metadata": {},
   "source": [
    "# TikTok interview Question"
   ]
  },
  {
   "cell_type": "code",
   "execution_count": null,
   "metadata": {
    "vscode": {
     "languageId": "sql"
    }
   },
   "outputs": [],
   "source": [
    "-- Join the Emails and Texts Table with Left join\n",
    "-- Left Join because we on want activation rate of users in the email tables\n",
    "WITH emails_texts AS (\n",
    "  SELECT\n",
    "    e.email_id, e.user_id, e.signup_date, t.text_id, t.signup_action\n",
    "  FROM emails as e \n",
    "  LEFT JOIN texts as t \n",
    "  ON e.email_id = t.email_id\n",
    ")\n",
    "\n",
    "SELECT\n",
    "  ROUND(SUM(CASE WHEN signup_action = 'Confirmed' THEN 1 ELSE 0 END) :: decimal/COUNT(email_id),2) AS confirmation_rate\n",
    "FROM emails_texts\n",
    "WHERE text_id is NOT NULL -- Filters for users who recieve confirmation text"
   ]
  },
  {
   "cell_type": "markdown",
   "metadata": {
    "vscode": {
     "languageId": "sql"
    }
   },
   "source": [
    "### Learnings"
   ]
  },
  {
   "cell_type": "markdown",
   "metadata": {},
   "source": [
    "1. When we divide by an integer in SQL sometimes we will get a a result of Zero. To resolve this Cast the Numerator or denominator as a Decimal\n",
    "\n",
    "2. I can use the ON condition to filter for rows instead of using the WHERE clause."
   ]
  },
  {
   "cell_type": "markdown",
   "metadata": {
    "vscode": {
     "languageId": "sql"
    }
   },
   "source": [
    "## Supercloud Customer"
   ]
  },
  {
   "cell_type": "code",
   "execution_count": null,
   "metadata": {
    "vscode": {
     "languageId": "sql"
    }
   },
   "outputs": [],
   "source": [
    "-- Join Customer and products table to get product categories in the same rows as product id \n",
    "WITH cust_prod AS (\n",
    "  SELECT *\n",
    "  FROM customer_contracts AS cc \n",
    "  LEFT JOIN products AS p \n",
    "    ON cc.product_id = p.product_id\n",
    ")\n",
    "\n",
    "\n",
    "SELECT \n",
    "  customer_id\n",
    "FROM cust_prod\n",
    "GROUP BY customer_id \n",
    "HAVING COUNT(DISTINCT product_category) = (SELECT COUNT(DISTINCT product_category) FROM products) -- Check if each customer bought at least one product from each product category.\n",
    "ORDER BY customer_id"
   ]
  },
  {
   "cell_type": "markdown",
   "metadata": {
    "vscode": {
     "languageId": "sql"
    }
   },
   "source": [
    "Learnings\n",
    "\n",
    "1. use the HAVING keyword to filer Groups after using GROUP BY clause.\n",
    "\n",
    "2. When you need to filter output after using GROUP BY use subqueries.\n",
    "    For example \n",
    "    Suppose you had two tables\n",
    "\n",
    "    One table is called active_users - conntaining users that have opened the app at least 5 times a month\n",
    "    The is dormant_users - containing users that only use the app less than 10 times every 6 months.\n",
    "\n",
    "    You ar now tasks with the finding what percetage of users are active.\n",
    "\n",
    "    To find this percentage You use subquery in SELECT To count the number of dormant users from the other table and add it to the number of active users\n",
    "\n",
    "3. You can count the total number of rows using window functions COUNT(*) OVER() AS total_rows"
   ]
  },
  {
   "cell_type": "markdown",
   "metadata": {},
   "source": [
    "# Google SQL  Interview Questions - Odd and Even measurements"
   ]
  },
  {
   "cell_type": "markdown",
   "metadata": {},
   "source": [
    "https://datalemur.com/questions/odd-even-measurements"
   ]
  },
  {
   "cell_type": "code",
   "execution_count": null,
   "metadata": {
    "vscode": {
     "languageId": "sql"
    }
   },
   "outputs": [],
   "source": [
    "-- MY Solution\n",
    "\n",
    "WITH batch_measurements AS (\n",
    "  SELECT\n",
    "    *,\n",
    "    DATE_TRUNC('day', DATE(measurement_time)) as measurement_day,\n",
    "    ROW_NUMBER() \n",
    "      OVER(PARTITION BY DATE_TRUNC('DAY', measurement_time) ORDER BY measurement_time) AS day_groups\n",
    "  FROM measurements\n",
    ")\n",
    "\n",
    "\n",
    "SELECT \n",
    " measurement_day,\n",
    " SUM(CASE WHEN day_groups IN (1,3,5) THEN measurement_value ELSE 0 END) AS odd_sum,\n",
    " SUM(CASE WHEN day_groups IN (2,4,6) THEN measurement_value ELSE 0 END) AS even_sum\n",
    "FROM batch_measurements\n",
    "GROUP BY measurement_day\n",
    "ORDER BY measurement_day"
   ]
  },
  {
   "cell_type": "markdown",
   "metadata": {
    "vscode": {
     "languageId": "sql"
    }
   },
   "source": [
    "## Learnings"
   ]
  },
  {
   "cell_type": "markdown",
   "metadata": {
    "vscode": {
     "languageId": "sql"
    }
   },
   "source": [
    "1. DATE_TRUNC() can be used to truncate dates like this '07/10/2022 09:00:00' to '07/10/2022 00:00:00'\n",
    "    DATE_TRUNC('day', '07/10/2022 09:00:00') -> '07/10/2022 00:00:00'\n",
    "    Removes the hour, minute and second component of a date but leaves day, month, year intaact\n",
    "\n",
    "2. We USE the FLOOR() function combined with window functions to group rows in to batches\n",
    "    E.g.\n",
    "    FLOOR( (ROW_NUMBER() OVER(ORDER BY meaurement_day) - 1) / 6) + 1 \n",
    "\n",
    "    This code resets after every 6 rows.\n",
    "\n",
    "    "
   ]
  },
  {
   "cell_type": "markdown",
   "metadata": {},
   "source": [
    "# Swapped Food delivery"
   ]
  },
  {
   "cell_type": "code",
   "execution_count": null,
   "metadata": {
    "vscode": {
     "languageId": "sql"
    }
   },
   "outputs": [],
   "source": [
    "-- Find max order ID\n",
    "WITH max_order AS (\n",
    "  SELECT MAX(order_id) AS max_order_id\n",
    "  FROM orders\n",
    "),\n",
    "\n",
    "-- Create corrected_order_id\n",
    "cte AS (\n",
    " SELECT \n",
    "    *,\n",
    "    CASE\n",
    "      WHEN order_id NOT IN (SELECT(max_order_id) FROM max_order) THEN  -- Leave maximum order id alone\n",
    "        CASE\n",
    "          WHEN order_id % 2 = 0 THEN order_id - 1\n",
    "          ELSE order_id + 1 \n",
    "        END \n",
    "      ELSE order_id\n",
    "    END AS corrected_order_id\n",
    " FROM orders\n",
    "\n",
    ")\n",
    "\n",
    "SELECT corrected_order_id,item \n",
    "FROM cte\n",
    "ORDER BY corrected_order_id"
   ]
  },
  {
   "cell_type": "markdown",
   "metadata": {
    "vscode": {
     "languageId": "sql"
    }
   },
   "source": [
    "# Verizon Question"
   ]
  },
  {
   "cell_type": "code",
   "execution_count": null,
   "metadata": {
    "vscode": {
     "languageId": "sql"
    }
   },
   "outputs": [],
   "source": [
    "https://datalemur.com/questions/international-call-percentage"
   ]
  },
  {
   "cell_type": "code",
   "execution_count": null,
   "metadata": {
    "vscode": {
     "languageId": "sql"
    }
   },
   "outputs": [],
   "source": [
    "-- My solution\n",
    "\n",
    "-- Count number of calls\n",
    "WITH num_total_calls AS (\n",
    "  SELECT COUNT(*) AS number_of_calls\n",
    "  FROM phone_calls\n",
    "),\n",
    "\n",
    "-- Get the country of callers andf recievers on the same row\n",
    "phone_call_info AS (\n",
    "\n",
    "  SELECT \n",
    "    pc.caller_id AS pc_caller_id, \n",
    "    pc.receiver_id AS pc_receiver_id,\n",
    "    pi1.country_id AS caller_country,\n",
    "    pi2.country_id AS receiver_country,\n",
    "    COUNT(*) OVER() AS call_count\n",
    "  FROM phone_calls AS pc \n",
    "  \n",
    "  INNER JOIN phone_info AS pi1\n",
    "   ON pc.caller_id = pi1.caller_id\n",
    "   \n",
    "  INNER JOIN phone_info AS pi2 \n",
    "    ON pc.receiver_id = pi2.caller_id\n",
    "),\n",
    "\n",
    "-- Count the number of international calls\n",
    "num_international_calls AS (\n",
    "  SELECT COUNT(*) AS int_calls\n",
    "  FROM phone_call_info\n",
    "  WHERE caller_country <> receiver_country\n",
    ")\n",
    "\n",
    "--  Calculate percentage of international calls\n",
    "SELECT \n",
    "  ROUND((ic.int_calls::DECIMAL / tc.number_of_calls) * 100, 1) \n",
    "  AS international_calls_pct\n",
    "FROM num_international_calls ic, num_total_calls tc;\n"
   ]
  },
  {
   "cell_type": "markdown",
   "metadata": {
    "vscode": {
     "languageId": "sql"
    }
   },
   "source": [
    "### Learnings"
   ]
  },
  {
   "cell_type": "code",
   "execution_count": null,
   "metadata": {
    "vscode": {
     "languageId": "sql"
    }
   },
   "outputs": [],
   "source": [
    "1. WHEN dividing two integers and rounding the result with the ROUND() fucntion, SQL returns an error.\n",
    "The solution is to cast the numerator or denominator as DECIMAL or FLOAT so that the ROUND function can ROUND.\n",
    "\n",
    "2 The player_id column in the other phone_ifo table contained id's of callers (The people who made the call)\n",
    "and id's of receivers (The person who recieves a call from the caller). This was problematic because joining thes\n",
    "two table USING\n",
    "\n",
    "  INNER JOIN phone_info AS pi1\n",
    "   ON pc.caller_id = pi1.caller_id OR  pc.caller_id = pi1.receiver_id\n",
    "\n",
    "Just reslulted in duplicate rows.\n"
   ]
  },
  {
   "cell_type": "code",
   "execution_count": null,
   "metadata": {
    "vscode": {
     "languageId": "sql"
    }
   },
   "outputs": [],
   "source": [
    "\n",
    "The solution is to use a seperate INNER JOIN. One INNER JOIN for caller_id and another join for reciever ID"
   ]
  },
  {
   "cell_type": "markdown",
   "metadata": {},
   "source": [
    "DATALEMUR ALIBABA QUESTION"
   ]
  },
  {
   "cell_type": "markdown",
   "metadata": {
    "vscode": {
     "languageId": "sql"
    }
   },
   "source": [
    "I didn;t solve this question on my own because i didn;t understand the question"
   ]
  },
  {
   "cell_type": "code",
   "execution_count": null,
   "metadata": {
    "vscode": {
     "languageId": "sql"
    }
   },
   "outputs": [],
   "source": [
    "WITH mode AS (\n",
    "  SELECT MODE() WITHIN GROUP (ORDER BY order_occurrences) as mode_occurence\n",
    "  FROM items_per_order\n",
    ")\n",
    "\n",
    "SELECT item_count\n",
    "FROM items_per_order\n",
    "WHERE order_occurrences = (SELECT mode_occurence FROM mode)"
   ]
  },
  {
   "cell_type": "markdown",
   "metadata": {},
   "source": [
    "### New learnings"
   ]
  },
  {
   "cell_type": "markdown",
   "metadata": {},
   "source": [
    "1. Learned to use MODE() WITHIN GROUP  to find the mode within a column"
   ]
  }
 ],
 "metadata": {
  "language_info": {
   "name": "python"
  }
 },
 "nbformat": 4,
 "nbformat_minor": 2
}
